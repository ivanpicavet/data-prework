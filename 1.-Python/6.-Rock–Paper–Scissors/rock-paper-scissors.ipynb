{
 "cells": [
  {
   "cell_type": "markdown",
   "metadata": {},
   "source": [
    "<img src=\"https://bit.ly/2VnXWr2\" width=\"100\" align=\"left\">"
   ]
  },
  {
   "cell_type": "markdown",
   "metadata": {},
   "source": [
    "# Rock, Paper & Scissors\n",
    "\n",
    "Let's play the famous game against our computer. You can check the rules [here](https://en.wikipedia.org/wiki/Rock%E2%80%93paper%E2%80%93scissors). \n",
    "\n",
    "## Task\n",
    "Create a program that imitates the playability of the well known game of rock, paper, scissors. Follow the guidelines provided.\n",
    "\n",
    "## Tools\n",
    "1. Loop: **for/while**\n",
    "2. Functions: **input(), print()...**\n",
    "3. Conditional statements: **if, elif, else**\n",
    "4. Definition of functions. Modular programming\n",
    "5. Import modules\n",
    "\n",
    "**To solve this challenge, the use of functions is recommended.**\n",
    "\n",
    "#### 1. Import the choice function of the random module."
   ]
  },
  {
   "cell_type": "code",
   "execution_count": 73,
   "metadata": {},
   "outputs": [],
   "source": [
    "import random\n"
   ]
  },
  {
   "cell_type": "markdown",
   "metadata": {},
   "source": [
    "#### 2. Create a list that includes the 3 possible gesture options of the game: 'rock', 'paper' or 'scissors'. Store the list in a variable called `gestures`."
   ]
  },
  {
   "cell_type": "code",
   "execution_count": 74,
   "metadata": {},
   "outputs": [],
   "source": [
    "gestures = [\"rock\", \"paper\", \"scissors\"]"
   ]
  },
  {
   "cell_type": "markdown",
   "metadata": {},
   "source": [
    "#### 3. Create a variable called `n_rounds` to store the maximum number of rounds to play in a game. \n",
    "Remember that the number of rounds must be odd: 1, 3, 5, ..."
   ]
  },
  {
   "cell_type": "code",
   "execution_count": 75,
   "metadata": {},
   "outputs": [],
   "source": [
    "n_rounds = random.randrange(1,10,2) #assuming nobody wants to play that game more than 9 rounds..."
   ]
  },
  {
   "cell_type": "markdown",
   "metadata": {},
   "source": [
    "#### 4. Create a variable called `rounds_to_win` to store the number of rounds that a player must win to win the game.\n",
    "**Hint**: the value stored in `rounds_to_win` depends on the value of `n_rounds`. "
   ]
  },
  {
   "cell_type": "code",
   "execution_count": 76,
   "metadata": {},
   "outputs": [],
   "source": [
    "import math\n",
    "rounds_to_win = math.ceil(n_rounds/2)\n",
    "    "
   ]
  },
  {
   "cell_type": "markdown",
   "metadata": {},
   "source": [
    "#### 5. Create two variables to store the number of rounds that the computer and the player have won. Call these variables `cpu_score` and `player_score`."
   ]
  },
  {
   "cell_type": "code",
   "execution_count": 77,
   "metadata": {},
   "outputs": [],
   "source": [
    "cpu_score = 0\n",
    "player_score = 0\n",
    "interm_score = [0,0]\n"
   ]
  },
  {
   "cell_type": "markdown",
   "metadata": {},
   "source": [
    "#### 6. Define a function that randomly returns one of the 3 gesture options.\n",
    "You will use this function to simulate the gesture choice of the computer. "
   ]
  },
  {
   "cell_type": "code",
   "execution_count": 78,
   "metadata": {},
   "outputs": [],
   "source": [
    "def gesture_options_cpu():\n",
    "    cpu_round_choice = random.choice(gestures)\n",
    "    print(\"cpu choice is : \" + cpu_round_choice)\n",
    "    return cpu_round_choice\n",
    "    \n",
    "    \n",
    "    "
   ]
  },
  {
   "cell_type": "markdown",
   "metadata": {},
   "source": [
    "#### 7. Define a function that asks the player which is the gesture he or she wants to show: 'rock', 'paper' or 'scissors'.\n",
    "The player should only be allowed to choose one of the 3 gesture options. If the player's choice is not rock, paper or scissors, keep asking until it is."
   ]
  },
  {
   "cell_type": "code",
   "execution_count": 79,
   "metadata": {},
   "outputs": [],
   "source": [
    "def gesture_options_player():\n",
    "    while True :\n",
    "        print(\"Player, it is your turn : Choose between rock, paper or scissors\")   \n",
    "        player_round_choice = input()\n",
    "        if player_round_choice  not in gestures :\n",
    "            continue\n",
    "        else :\n",
    "            return player_round_choice\n",
    "            \n",
    "            \n",
    "            \n",
    "        \n",
    "    \n"
   ]
  },
  {
   "cell_type": "markdown",
   "metadata": {},
   "source": [
    "#### 8. Define a function that checks who won a round. \n",
    "The function should return 0 if there is a tie, 1 if the computer wins and 2 if the player wins."
   ]
  },
  {
   "cell_type": "code",
   "execution_count": 80,
   "metadata": {},
   "outputs": [],
   "source": [
    "\n",
    "def check_round_win (x,y) :\n",
    "    \n",
    "    if x== y:\n",
    "        return 0\n",
    "    if x==\"paper\" and y ==\"scissors\" :\n",
    "        return 2\n",
    "    if x==\"paper\" and y ==\"rock\" :\n",
    "        return 1\n",
    "    if x==\"rock\" and y ==\"paper\" :\n",
    "        return 2\n",
    "    if x==\"rock\" and y ==\"scissors\":\n",
    "        return 1\n",
    "    if x == \"scissors\" and y==\"paper\" :\n",
    "        return 1\n",
    "    if x == \"scissors\" and y == \"rock\":\n",
    "        return 2\n",
    "        \n",
    "    \n"
   ]
  },
  {
   "cell_type": "markdown",
   "metadata": {},
   "source": [
    "#### 9. Define a function that prints the choice of the computer, the choice of the player and a message that announces who won the current round. \n",
    "You should also use this function to update the variables that count the number of rounds that the computer and the player have won. The score of the winner increases by one point. If there is a tie, the score does not increase."
   ]
  },
  {
   "cell_type": "code",
   "execution_count": 81,
   "metadata": {},
   "outputs": [],
   "source": [
    "def result_round () :\n",
    "    a1 =gesture_options_cpu()\n",
    "    a2 =gesture_options_player()\n",
    "    b1 =check_round_win(a1,a2)\n",
    "    cpu_round_score = 0\n",
    "    player_round_score= 0\n",
    "    if b1 == 0:\n",
    "        print(\"it s a tie\")\n",
    "    elif b1 == 1 :\n",
    "        print(\"the cpu won\")\n",
    "        cpu_round_score += 1\n",
    "        \n",
    "    elif b1 == 2 :\n",
    "        print(\"the player won\")\n",
    "        player_round_score += 1\n",
    "    return b1    \n",
    "        \n"
   ]
  },
  {
   "cell_type": "markdown",
   "metadata": {},
   "source": [
    "#### 10. Now it's time to code the execution of the game using the functions and variables you defined above. \n",
    "\n",
    "First, create a loop structure that repeats while no player reaches the minimum score necessary to win and the number of rounds is less than the maximum number of rounds to play in a game.  \n",
    "\n",
    "Inside the loop, use the functions and variables above to create the execution of a round: ask for the player's choice, generate the random choice of the computer, show the round results, update the scores, etc. "
   ]
  },
  {
   "cell_type": "code",
   "execution_count": 82,
   "metadata": {},
   "outputs": [
    {
     "name": "stdout",
     "output_type": "stream",
     "text": [
      "this game will be played in 7 rounds\n",
      "round nr 1\n",
      "cpu choice is : paper\n",
      "Player, it is your turn : Choose between rock, paper or scissors\n",
      "rocks\n",
      "Player, it is your turn : Choose between rock, paper or scissors\n",
      "rock\n",
      "the cpu won\n",
      "the actual score is [1, 0]\n",
      "round nr 2\n",
      "cpu choice is : scissors\n",
      "Player, it is your turn : Choose between rock, paper or scissors\n",
      "scissors\n",
      "it s a tie\n",
      "the actual score is [1, 0]\n",
      "round nr 3\n",
      "cpu choice is : rock\n",
      "Player, it is your turn : Choose between rock, paper or scissors\n",
      "paper\n",
      "the player won\n",
      "the actual score is [1, 1]\n",
      "round nr 4\n",
      "cpu choice is : scissors\n",
      "Player, it is your turn : Choose between rock, paper or scissors\n",
      "paper\n",
      "the cpu won\n",
      "the actual score is [2, 1]\n",
      "round nr 5\n",
      "cpu choice is : rock\n",
      "Player, it is your turn : Choose between rock, paper or scissors\n",
      "paper\n",
      "the player won\n",
      "the actual score is [2, 2]\n",
      "round nr 6\n",
      "cpu choice is : paper\n",
      "Player, it is your turn : Choose between rock, paper or scissors\n",
      "rock\n",
      "the cpu won\n",
      "the actual score is [3, 2]\n",
      "round nr 7\n",
      "cpu choice is : scissors\n",
      "Player, it is your turn : Choose between rock, paper or scissors\n",
      "paper\n",
      "the cpu won\n",
      "the actual score is [4, 2]\n"
     ]
    }
   ],
   "source": [
    "number_of_rounds = 0 \n",
    "interm_score =[0,0]\n",
    "print(\"this game will be played in \" + str(n_rounds) + \" rounds\")\n",
    "for i in range(n_rounds):    \n",
    "    while cpu_score < rounds_to_win and player_score < rounds_to_win and number_of_rounds < n_rounds :\n",
    "        print(\"round nr \" + str(number_of_rounds + 1 ))\n",
    "        c1 = result_round()\n",
    "        if c1 == 0 :\n",
    "            number_of_rounds += 1\n",
    "            print(\"the actual score is \" + str(interm_score))\n",
    "            break\n",
    "        if c1 == 1 :   \n",
    "            cpu_score += 1\n",
    "            interm_score[0] += 1\n",
    "        if c1 == 2 :    \n",
    "            player_score += 1\n",
    "            interm_score[1] += 1\n",
    "        print(\"the actual score is \" + str(interm_score))\n",
    "        number_of_rounds += 1"
   ]
  },
  {
   "cell_type": "markdown",
   "metadata": {},
   "source": [
    "#### 11. Print the winner of the game based on who won more rounds.\n",
    "Remember that the game might be tied. "
   ]
  },
  {
   "cell_type": "code",
   "execution_count": 83,
   "metadata": {},
   "outputs": [
    {
     "name": "stdout",
     "output_type": "stream",
     "text": [
      "the game with a maximum of 7 rounds was concluded in 7 rounds\n",
      "... and cpu won 4 rounds to 2\n"
     ]
    }
   ],
   "source": [
    "print(\"the game with a maximum of \" + str(n_rounds) + \" rounds\" + \" was concluded in \" + str(i+1) + \" rounds\")\n",
    "if interm_score[0] > interm_score[1] :\n",
    "    print(\"... and cpu won \" + str(interm_score[0]) + \" rounds to \" + str(interm_score[1]))\n",
    "elif interm_score[0] < interm_score[1] :\n",
    "    print(\"... and player won \" + str(interm_score[1]) + \" rounds to \" + str(interm_score[0]))\n",
    "else :\n",
    "    print(\"... and it is a tie \" + str(interm_score[0]) + \"  rounds to \" + str(interm_score[1]))"
   ]
  },
  {
   "cell_type": "markdown",
   "metadata": {},
   "source": [
    "# Bonus: Rock, Paper, Scissors, Lizard & Spock\n",
    "![](images/rpsls.jpg)\n",
    "\n",
    "In this challenge, you need to improve the previous game by adding two new options. To know more about the rules of the improved version of rock, paper, scissors, check this [link](http://www.samkass.com/theories/RPSSL.html). \n",
    "\n",
    "In addition, you will also need to improve how the game interacts with the player: the number of rounds to play, which must be an odd number, will be requested to the user until a valid number is entered. Define a new function to make that request.\n",
    "\n",
    "**Hint**: Try to reuse the code that you already coded in the previous challenge. If your code is efficient, this bonus will only consist of simple modifications to the original game."
   ]
  },
  {
   "cell_type": "code",
   "execution_count": 84,
   "metadata": {},
   "outputs": [
    {
     "name": "stdout",
     "output_type": "stream",
     "text": [
      "choose the maximum rounds you want to play, must be an odd number\n",
      "4\n",
      "choose the maximum rounds you want to play, must be an odd number\n",
      "5\n",
      "this game will be played in 5 rounds\n",
      "round nr 1\n",
      "cpu choice is : lizard\n",
      "Player, it is your turn : Choose between rock, paper, scissors, lizard or spock\n",
      "rocks\n",
      "Player, it is your turn : Choose between rock, paper, scissors, lizard or spock\n",
      "rock\n",
      "the player won\n",
      "the actual score is [0, 1]\n",
      "round nr 2\n",
      "cpu choice is : rock\n",
      "Player, it is your turn : Choose between rock, paper, scissors, lizard or spock\n",
      "rock\n",
      "it s a tie\n",
      "the actual score is [0, 1]\n",
      "round nr 3\n",
      "cpu choice is : scissors\n",
      "Player, it is your turn : Choose between rock, paper, scissors, lizard or spock\n",
      "scissors\n",
      "it s a tie\n",
      "the actual score is [0, 1]\n",
      "round nr 4\n",
      "cpu choice is : scissors\n",
      "Player, it is your turn : Choose between rock, paper, scissors, lizard or spock\n",
      "scissors\n",
      "it s a tie\n",
      "the actual score is [0, 1]\n",
      "round nr 5\n",
      "cpu choice is : rock\n",
      "Player, it is your turn : Choose between rock, paper, scissors, lizard or spock\n",
      "scissors\n",
      "the cpu won\n",
      "the actual score is [1, 1]\n",
      " \n",
      "the game with a maximum of 5 rounds was concluded in 5 rounds\n",
      "... and it is a tie 1  rounds to 1\n"
     ]
    }
   ],
   "source": [
    "import random\n",
    "\n",
    "gestures2 = [\"rock\", \"paper\", \"scissors\", \"lizard\", \"spock\"]\n",
    "\n",
    "def round_amount2():\n",
    "    while True :\n",
    "        print(\"choose the maximum rounds you want to play, must be an odd number\")\n",
    "        n_rounds2 = int(input())\n",
    "        if n_rounds2 % 2 == 0:\n",
    "            continue\n",
    "        else:\n",
    "            return n_rounds2\n",
    "        \n",
    "        \n",
    "        \n",
    "        \n",
    "            \n",
    "import math\n",
    "rounds_chosen2 = round_amount2()   \n",
    "rounds_to_win2 = math.ceil(rounds_chosen2)\n",
    "\n",
    "cpu_score2 = 0\n",
    "player_score2 = 0\n",
    "interm_score2 = [0,0]\n",
    "\n",
    "def gesture_options_cpu2():\n",
    "    cpu_round_choice2 = random.choice(gestures2)\n",
    "    print(\"cpu choice is : \" + cpu_round_choice2)\n",
    "    return cpu_round_choice2\n",
    "\n",
    "def gesture_options_player2():\n",
    "    while True :\n",
    "        print(\"Player, it is your turn : Choose between rock, paper, scissors, lizard or spock\")   \n",
    "        player_round_choice2 = input()\n",
    "        if player_round_choice2 not in gestures2 :\n",
    "            continue\n",
    "        else :\n",
    "            return player_round_choice2\n",
    "            \n",
    "def check_round_win2 (x,y) :\n",
    "    \n",
    "    if x== y:\n",
    "        return 0\n",
    "    if x == \"paper\" and y == \"scissors\" :\n",
    "        return 2\n",
    "    if x == \"paper\" and y == \"rock\" :\n",
    "        return 1\n",
    "    if x == \"paper\" and y == \"lizard\" :\n",
    "        return 2\n",
    "    if x == \"paper\" and y == \"spock\":\n",
    "        return 1\n",
    "    if x==\"rock\" and y ==\"paper\" :\n",
    "        return 2\n",
    "    if x==\"rock\" and y ==\"scissors\":\n",
    "        return 1\n",
    "    if x==\"rock\" and y ==\"lizard\":\n",
    "        return 1\n",
    "    if x==\"rock\" and y ==\"spock\":\n",
    "        return 2\n",
    "    if x == \"scissors\" and y==\"paper\" :\n",
    "        return 1\n",
    "    if x == \"scissors\" and y == \"rock\":\n",
    "        return 2\n",
    "    if x == \"scissors\" and y==\"lizard\" :\n",
    "        return 1\n",
    "    if x == \"scissors\" and y==\"spock\" :\n",
    "        return 2\n",
    "    if x == \"lizard\" and y ==\"scissors\" :\n",
    "        return 2\n",
    "    if x == \"lizard\" and y == \"rock\":\n",
    "        return 2\n",
    "    if x == \"lizard\" and y == \"paper\":\n",
    "        return 1\n",
    "    if x == \"lizard\" and y == \"spock\" :\n",
    "        return 1\n",
    "    if x == \"spock\" and y ==\"scissors\" :\n",
    "        return 1\n",
    "    if x == \"spock\" and y ==\"rock\" :\n",
    "        return 1\n",
    "    if x == \"spock\" and y ==\"paper\" :\n",
    "        return 2\n",
    "    if x == \"spock\" and y ==\"lizard\" :\n",
    "        return 2\n",
    "    \n",
    "def result_round2 () :\n",
    "    d1 =gesture_options_cpu2()\n",
    "    d2 =gesture_options_player2()\n",
    "    e1 =check_round_win2(d1,d2)\n",
    "    cpu_round_score2 = 0\n",
    "    player_round_score2= 0\n",
    "    if e1 == 0:\n",
    "        print(\"it s a tie\")\n",
    "    elif e1 == 1 :\n",
    "        print(\"the cpu won\")\n",
    "        cpu_round_score2 += 1\n",
    "        \n",
    "    elif e1 == 2 :\n",
    "        print(\"the player won\")\n",
    "        player_round_score2 += 1\n",
    "    return e1    \n",
    "\n",
    "number_of_rounds2 = 0 \n",
    "interm_score2 =[0,0]\n",
    "print(\"this game will be played in \" + str(rounds_chosen2) + \" rounds\")\n",
    "for i in range(rounds_chosen2):    \n",
    "    while cpu_score2 < rounds_to_win2 and player_score2 < rounds_to_win2 and number_of_rounds2 < rounds_chosen2 :\n",
    "        print(\"round nr \" + str(number_of_rounds2 + 1 ))\n",
    "        f1 = result_round2()\n",
    "        if f1 == 0 :\n",
    "            number_of_rounds2 += 1\n",
    "            print(\"the actual score is \" + str(interm_score2))\n",
    "            break\n",
    "        if f1 == 1 :   \n",
    "            cpu_score2 += 1\n",
    "            interm_score2[0] += 1\n",
    "        if f1 == 2 :    \n",
    "            player_score2 += 1\n",
    "            interm_score2[1] += 1\n",
    "        print(\"the actual score is \" + str(interm_score2))\n",
    "        number_of_rounds2 += 1\n",
    "        \n",
    "print(\" \")        \n",
    "print(\"the game with a maximum of \" + str(rounds_chosen2) + \" rounds\" + \" was concluded in \" + str(i+1) + \" rounds\")\n",
    "if interm_score2[0] > interm_score2[1] :\n",
    "    print(\"... and cpu won \" + str(interm_score2[0]) + \" rounds to \" + str(interm_score2[1]))\n",
    "elif interm_score2[0] < interm_score2[1] :\n",
    "    print(\"... and player won \" + str(interm_score2[1]) + \" rounds to \" + str(interm_score2[0]))\n",
    "else :\n",
    "    print(\"... and it is a tie \" + str(interm_score2[0]) + \"  rounds to \" + str(interm_score2[1]))\n",
    "\n",
    "\n",
    "\n",
    "\n",
    "\n"
   ]
  },
  {
   "cell_type": "code",
   "execution_count": null,
   "metadata": {},
   "outputs": [],
   "source": []
  },
  {
   "cell_type": "code",
   "execution_count": null,
   "metadata": {},
   "outputs": [],
   "source": []
  }
 ],
 "metadata": {
  "kernelspec": {
   "display_name": "Python 3",
   "language": "python",
   "name": "python3"
  },
  "language_info": {
   "codemirror_mode": {
    "name": "ipython",
    "version": 3
   },
   "file_extension": ".py",
   "mimetype": "text/x-python",
   "name": "python",
   "nbconvert_exporter": "python",
   "pygments_lexer": "ipython3",
   "version": "3.8.5"
  }
 },
 "nbformat": 4,
 "nbformat_minor": 2
}
