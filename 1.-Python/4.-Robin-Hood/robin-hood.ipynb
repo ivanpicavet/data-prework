{
 "cells": [
  {
   "cell_type": "markdown",
   "metadata": {},
   "source": [
    "<img src=\"https://bit.ly/2VnXWr2\" width=\"100\" align=\"left\"/>"
   ]
  },
  {
   "cell_type": "markdown",
   "metadata": {},
   "source": [
    "# Robin Hood\n",
    "Robin Hood has entered a competition to win the archery contest in Sherwood. With his bow and arrows, he needs to shoot on a target and try to hit as close as possible to the center.\n",
    "\n",
    "![](images/arrows.jpg)\n",
    "\n",
    "## Context\n",
    "In this challenge, the landing position of arrows shot by archers in the competition will be represented using 2-dimensional coordinates. \n",
    "\n",
    "In the 2-dimensional space, a point can be defined by a pair of values that correspond to the horizontal coordinate (x) and the vertical coordinate (y). For example, in our case, an arrow that hits the center of the archery target will land in position (0, 0) on the coordinate axes. \n",
    "\n",
    "The space can be divided into 4 zones (quadrants): Q1, Q2, Q3, Q4. If a point is in Q1, both its x coordinate and y coordinate are positive. Any point with a null x or y coordinate is considered to not belong to any quadrant. \n",
    "\n",
    "If you want to know more about the cartesian coordinate system, you can check this [link](https://en.wikipedia.org/wiki/Cartesian_coordinate_system). \n",
    "\n",
    "## Tools\n",
    "You don't necessarily need to use all the tools. Maybe you opt to use some of them or completely different ones, they are given to help you shape the exercise. Programming exercises can be solved in many different ways.\n",
    "* Data structures: **lists, sets, tuples**\n",
    "* Conditional statements: **if-elif-else**\n",
    "* Loop: **while/for**\n",
    "* Minimum (optional sorting)\n",
    "\n",
    "## Tasks\n",
    "Robin Hood has hit the following points:"
   ]
  },
  {
   "cell_type": "code",
   "execution_count": 58,
   "metadata": {},
   "outputs": [],
   "source": [
    "points = [(4, 5), (-0, 2), (4, 7), (1, -3), (3, -2), (4, 5), (3, 2), (5, 7), (-5, 7), (2, 2), (-4, 5), (0, -2),\n",
    "          (-4, 7), (-1, 3), (-3, 2), (-4, -5), (-3, 2), (5, 7), (5, 7), (2, 2), (9, 9), (-8, -9)]"
   ]
  },
  {
   "cell_type": "markdown",
   "metadata": {},
   "source": [
    "#### 1. Robin Hood is famous for hitting an arrow with another arrow. Find the coordinates of the points where an arrow hits another arrow."
   ]
  },
  {
   "cell_type": "code",
   "execution_count": 59,
   "metadata": {},
   "outputs": [
    {
     "name": "stdout",
     "output_type": "stream",
     "text": [
      "[(4, 5), (5, 7), (2, 2), (-3, 2)]\n"
     ]
    }
   ],
   "source": [
    "arrow_hits_arrow = []\n",
    "for x in range(len(points)) :\n",
    "    if points[x] in arrow_hits_arrow:\n",
    "        continue\n",
    "    elif points[x] in points[0:x-1]  or points[x]  in points[x+1:]:\n",
    "        arrow_hits_arrow.append(points[x])\n",
    "    \n",
    "    \n",
    "\n",
    "\n",
    "print(arrow_hits_arrow)        \n",
    "        \n"
   ]
  },
  {
   "cell_type": "markdown",
   "metadata": {},
   "source": [
    "#### 2. Calculate how many arrows have fallen in each quadrant. \n",
    "**Note**: the arrows that fall in the axis (x=0 or y=0) don't belong to any quadrant."
   ]
  },
  {
   "cell_type": "code",
   "execution_count": 60,
   "metadata": {},
   "outputs": [
    {
     "name": "stdout",
     "output_type": "stream",
     "text": [
      "11 arrows fell in Q1\n",
      "3 arrows fell in Q2\n",
      "2 arrows fell in Q3\n",
      "6 arrows fell in Q4\n",
      "0 arrows fell in the center\n"
     ]
    }
   ],
   "source": [
    "Q1 = 0\n",
    "Q2 = 0\n",
    "Q3 = 0\n",
    "Q4 = 0\n",
    "Center = 0\n",
    "\n",
    "for x, y in points :\n",
    "    if x ==0 and y == 0 :\n",
    "        Center +=1\n",
    "    if x >= 0 and y >= 0 :\n",
    "        Q1 +=1\n",
    "    elif x >= 0 and y <= 0 :\n",
    "        Q2 += 1\n",
    "    elif x <= 0 and y <= 0 :\n",
    "        Q3 += 1\n",
    "    elif x <= 0 and y >= 0 :\n",
    "        Q4 += 1\n",
    "       \n",
    "print(str(Q1) +\" arrows fell in Q1\",str(Q2) +\" arrows fell in Q2\",str(Q3) + \" arrows fell in Q3\",str(Q4) + \" arrows fell in Q4\",str(Center) + \" arrows fell in the center\", sep='\\n')        \n",
    "   \n",
    "        \n",
    "        \n",
    "    \n",
    "    \n",
    "    "
   ]
  },
  {
   "cell_type": "markdown",
   "metadata": {},
   "source": [
    "#### 3. Find the point closest to the center. Calculate its distance to the center. \n",
    "Take into account that there might be more than one point at the minimum distance to the center.\n",
    "\n",
    "**Hint**: Use the Euclidean distance. You can find more information about it [here](https://en.wikipedia.org/wiki/Euclidean_distance).  \n",
    "**Hint**: Defining a function that calculates the distance to the center can help."
   ]
  },
  {
   "cell_type": "code",
   "execution_count": 94,
   "metadata": {},
   "outputs": [
    {
     "name": "stdout",
     "output_type": "stream",
     "text": [
      "2.0 is the closest euclidian distance to the center\n"
     ]
    }
   ],
   "source": [
    "import math\n",
    "eg_distances = [] \n",
    "\n",
    "def  min_distance_calculate (l1):\n",
    "       \n",
    "    for i in range(len(l1)):\n",
    "        distance_center = math.sqrt((l1[i][0])**2  + (l1[i][1])**2 )\n",
    "        eg_distances.append(distance_center)\n",
    "       \n",
    "    print(str(min(eg_distances)) + \" is the closest euclidian distance to the center\")\n",
    "    return \n",
    "\n",
    "    \n",
    "min_distance_calculate(points)\n"
   ]
  },
  {
   "cell_type": "markdown",
   "metadata": {},
   "source": [
    "#### 4. If the archery target has a radius of 9, calculate the number of arrows that won't hit the target. \n",
    "**Hint**: Use the function created in step 3. "
   ]
  },
  {
   "cell_type": "code",
   "execution_count": 93,
   "metadata": {},
   "outputs": [
    {
     "name": "stdout",
     "output_type": "stream",
     "text": [
      "2 arrows are out of the target\n"
     ]
    }
   ],
   "source": [
    "rad = 9\n",
    "out_of_target = 0\n",
    "for eucl_dist in eg_distances :\n",
    "    if eucl_dist > rad :\n",
    "        out_of_target +=1\n",
    "    \n",
    "print(str(out_of_target) + \" arrows are out of the target\")    \n"
   ]
  },
  {
   "cell_type": "code",
   "execution_count": null,
   "metadata": {},
   "outputs": [],
   "source": []
  }
 ],
 "metadata": {
  "kernelspec": {
   "display_name": "Python 3",
   "language": "python",
   "name": "python3"
  },
  "language_info": {
   "codemirror_mode": {
    "name": "ipython",
    "version": 3
   },
   "file_extension": ".py",
   "mimetype": "text/x-python",
   "name": "python",
   "nbconvert_exporter": "python",
   "pygments_lexer": "ipython3",
   "version": "3.8.5"
  }
 },
 "nbformat": 4,
 "nbformat_minor": 2
}
